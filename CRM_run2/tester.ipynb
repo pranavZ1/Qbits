{
 "cells": [
  {
   "cell_type": "code",
   "execution_count": 1,
   "metadata": {},
   "outputs": [],
   "source": [
    "import numpy as np"
   ]
  },
  {
   "cell_type": "code",
   "execution_count": 2,
   "metadata": {},
   "outputs": [],
   "source": [
    "np.random.seed(42)"
   ]
  },
  {
   "cell_type": "code",
   "execution_count": 3,
   "metadata": {},
   "outputs": [],
   "source": [
    "phoneNumbers=[''.join(np.random.choice(list('0123456789'),10))for i in range(50)]"
   ]
  },
  {
   "cell_type": "code",
   "execution_count": 4,
   "metadata": {},
   "outputs": [
    {
     "data": {
      "text/plain": [
       "['6374692674',\n",
       " '3772541751',\n",
       " '4095809263',\n",
       " '8242648613',\n",
       " '8198941367',\n",
       " '2031731559',\n",
       " '3519193768',\n",
       " '7414798808',\n",
       " '6870772072',\n",
       " '2049698687',\n",
       " '1066742752',\n",
       " '0242049668',\n",
       " '9926033466',\n",
       " '3625198453',\n",
       " '9686008838',\n",
       " '2657840297',\n",
       " '5783009361',\n",
       " '2040700115',\n",
       " '6400214956',\n",
       " '3670574315',\n",
       " '5085233292',\n",
       " '2363807617',\n",
       " '0881692698',\n",
       " '3010446882',\n",
       " '2237570730',\n",
       " '7357328281',\n",
       " '1152830304',\n",
       " '3776200256',\n",
       " '5552571400',\n",
       " '4232004528',\n",
       " '4704203460',\n",
       " '2189592771',\n",
       " '5619190708',\n",
       " '5696921879',\n",
       " '6833072611',\n",
       " '6528959950',\n",
       " '3955407446',\n",
       " '3532673192',\n",
       " '0729694946',\n",
       " '8409901587',\n",
       " '4064562924',\n",
       " '5840349946',\n",
       " '3046995431',\n",
       " '3992907437',\n",
       " '6103712002',\n",
       " '4200791212',\n",
       " '6097999128',\n",
       " '6394173848',\n",
       " '3948720231',\n",
       " '0676406682']"
      ]
     },
     "execution_count": 4,
     "metadata": {},
     "output_type": "execute_result"
    }
   ],
   "source": [
    "phoneNumbers"
   ]
  },
  {
   "cell_type": "code",
   "execution_count": 5,
   "metadata": {},
   "outputs": [],
   "source": [
    "alphas = [''.join(np.random.choice(list('abcdefghijklmnopqrstuvwxyzABCDEFGHIJKLMNOPQRSTUVWXYZ'),10))for j in range(50)]"
   ]
  },
  {
   "cell_type": "code",
   "execution_count": 6,
   "metadata": {},
   "outputs": [
    {
     "data": {
      "text/plain": [
       "['ODqWtVyvms',\n",
       " 'WJlOsligBn',\n",
       " 'EZsUpeIlyZ',\n",
       " 'uJwpMSPMnE',\n",
       " 'eIwCQkrUli',\n",
       " 'jRqLgTmNPi',\n",
       " 'XAbeCKLshV',\n",
       " 'SavZqgySdJ',\n",
       " 'fEsRMAjzsM',\n",
       " 'cSmXBtBhOM',\n",
       " 'acmBWyGLfR',\n",
       " 'SFSUupukKJ',\n",
       " 'IstrUOWnoE',\n",
       " 'acpwkljFph',\n",
       " 'LlxBhBJzhX',\n",
       " 'BBKOJAqiGt',\n",
       " 'mBVCmTIfrY',\n",
       " 'eUybjDXSeG',\n",
       " 'arFUWkuzyv',\n",
       " 'AWmGHOIauV',\n",
       " 'fBqeEeLcwK',\n",
       " 'KjjsquniTa',\n",
       " 'YSmdaWNFHB',\n",
       " 'EhMzHcXlaR',\n",
       " 'eDDqVUwoKu',\n",
       " 'nbkYMLHLXH',\n",
       " 'rDoAYHZLGx',\n",
       " 'oDPYqeCdjq',\n",
       " 'jqtxeHfbmQ',\n",
       " 'QVkYUwpEkp',\n",
       " 'hdNdycFcAC',\n",
       " 'FXYsuerBPv',\n",
       " 'ufaeOlzTHW',\n",
       " 'nzSAizUvUD',\n",
       " 'QVqzJahWIZ',\n",
       " 'oUvnzBwnxb',\n",
       " 'SznYgcUwTQ',\n",
       " 'USrLIYoyKB',\n",
       " 'jMqMvzRyqm',\n",
       " 'tydjcOSrUJ',\n",
       " 'UvHUhNWRsP',\n",
       " 'OKfZzHSfKG',\n",
       " 'vuffVdDkDE',\n",
       " 'xicYENKJxE',\n",
       " 'fbtBkdofWD',\n",
       " 'LYbokhzYSR',\n",
       " 'efzdstGtWl',\n",
       " 'UaznLKkJmQ',\n",
       " 'cGfXjewjRb',\n",
       " 'mNbtaKiqik']"
      ]
     },
     "execution_count": 6,
     "metadata": {},
     "output_type": "execute_result"
    }
   ],
   "source": [
    "alphas"
   ]
  },
  {
   "cell_type": "code",
   "execution_count": 7,
   "metadata": {},
   "outputs": [],
   "source": [
    "import pandas as pd"
   ]
  },
  {
   "cell_type": "code",
   "execution_count": 8,
   "metadata": {},
   "outputs": [],
   "source": [
    "df = pd.DataFrame({\n",
    "    \"Names\":alphas,\n",
    "    \"phoneNumbers\":phoneNumbers\n",
    "})"
   ]
  },
  {
   "cell_type": "code",
   "execution_count": 9,
   "metadata": {},
   "outputs": [],
   "source": [
    "df.to_csv('support_leads.csv',index=False)"
   ]
  },
  {
   "cell_type": "code",
   "execution_count": null,
   "metadata": {},
   "outputs": [],
   "source": []
  },
  {
   "cell_type": "code",
   "execution_count": null,
   "metadata": {},
   "outputs": [],
   "source": []
  }
 ],
 "metadata": {
  "kernelspec": {
   "display_name": "may",
   "language": "python",
   "name": "python3"
  },
  "language_info": {
   "codemirror_mode": {
    "name": "ipython",
    "version": 3
   },
   "file_extension": ".py",
   "mimetype": "text/x-python",
   "name": "python",
   "nbconvert_exporter": "python",
   "pygments_lexer": "ipython3",
   "version": "3.12.2"
  }
 },
 "nbformat": 4,
 "nbformat_minor": 2
}
