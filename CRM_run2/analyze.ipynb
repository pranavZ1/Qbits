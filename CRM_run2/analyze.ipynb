{
 "cells": [
  {
   "cell_type": "code",
   "execution_count": 2,
   "metadata": {},
   "outputs": [],
   "source": [
    "import pandas as pd\n",
    "import matplotlib.pyplot as plt\n",
    "import plotly.express as px"
   ]
  },
  {
   "cell_type": "code",
   "execution_count": 3,
   "metadata": {},
   "outputs": [],
   "source": [
    "df = pd.read_csv('data.csv')"
   ]
  },
  {
   "cell_type": "code",
   "execution_count": 5,
   "metadata": {},
   "outputs": [
    {
     "data": {
      "text/html": [
       "<div>\n",
       "<style scoped>\n",
       "    .dataframe tbody tr th:only-of-type {\n",
       "        vertical-align: middle;\n",
       "    }\n",
       "\n",
       "    .dataframe tbody tr th {\n",
       "        vertical-align: top;\n",
       "    }\n",
       "\n",
       "    .dataframe thead th {\n",
       "        text-align: right;\n",
       "    }\n",
       "</style>\n",
       "<table border=\"1\" class=\"dataframe\">\n",
       "  <thead>\n",
       "    <tr style=\"text-align: right;\">\n",
       "      <th></th>\n",
       "      <th>Names</th>\n",
       "      <th>phoneNumbers</th>\n",
       "      <th>status</th>\n",
       "      <th>result</th>\n",
       "    </tr>\n",
       "  </thead>\n",
       "  <tbody>\n",
       "    <tr>\n",
       "      <th>0</th>\n",
       "      <td>ODqWtVyvms</td>\n",
       "      <td>6374692674</td>\n",
       "      <td>1</td>\n",
       "      <td>Interested</td>\n",
       "    </tr>\n",
       "    <tr>\n",
       "      <th>1</th>\n",
       "      <td>WJlOsligBn</td>\n",
       "      <td>3772541751</td>\n",
       "      <td>1</td>\n",
       "      <td>Call Back Later</td>\n",
       "    </tr>\n",
       "    <tr>\n",
       "      <th>2</th>\n",
       "      <td>EZsUpeIlyZ</td>\n",
       "      <td>4095809263</td>\n",
       "      <td>1</td>\n",
       "      <td>Junk Lead/Wrong Number</td>\n",
       "    </tr>\n",
       "    <tr>\n",
       "      <th>3</th>\n",
       "      <td>uJwpMSPMnE</td>\n",
       "      <td>8242648613</td>\n",
       "      <td>1</td>\n",
       "      <td>Not Interested</td>\n",
       "    </tr>\n",
       "    <tr>\n",
       "      <th>4</th>\n",
       "      <td>eIwCQkrUli</td>\n",
       "      <td>8198941367</td>\n",
       "      <td>1</td>\n",
       "      <td>Interested</td>\n",
       "    </tr>\n",
       "  </tbody>\n",
       "</table>\n",
       "</div>"
      ],
      "text/plain": [
       "        Names  phoneNumbers  status                  result\n",
       "0  ODqWtVyvms    6374692674       1              Interested\n",
       "1  WJlOsligBn    3772541751       1         Call Back Later\n",
       "2  EZsUpeIlyZ    4095809263       1  Junk Lead/Wrong Number\n",
       "3  uJwpMSPMnE    8242648613       1          Not Interested\n",
       "4  eIwCQkrUli    8198941367       1              Interested"
      ]
     },
     "execution_count": 5,
     "metadata": {},
     "output_type": "execute_result"
    }
   ],
   "source": [
    "df.head()"
   ]
  },
  {
   "cell_type": "code",
   "execution_count": 11,
   "metadata": {},
   "outputs": [
    {
     "data": {
      "text/plain": [
       "[15, 12, 10, 9, 4]"
      ]
     },
     "execution_count": 11,
     "metadata": {},
     "output_type": "execute_result"
    }
   ],
   "source": [
    "values = df['result'].value_counts().to_list()\n",
    "values"
   ]
  },
  {
   "cell_type": "code",
   "execution_count": 12,
   "metadata": {},
   "outputs": [
    {
     "data": {
      "text/plain": [
       "Index(['Not Interested', 'Call Back Later', 'DNP (Did Not Pick)',\n",
       "       'Junk Lead/Wrong Number', 'Interested'],\n",
       "      dtype='object', name='result')"
      ]
     },
     "execution_count": 12,
     "metadata": {},
     "output_type": "execute_result"
    }
   ],
   "source": [
    "names = df['result'].value_counts().index\n",
    "names"
   ]
  },
  {
   "cell_type": "code",
   "execution_count": 14,
   "metadata": {},
   "outputs": [],
   "source": [
    "colors = ['gold','mediumtorquoise','darkorange','lightgreen','red']\n",
    "fig = px.pie(df,values=values,names=names,title='Lead Results')\n",
    "fig.update_traces(\n",
    "    textposition = 'inside',\n",
    "    textinfo = 'percent+label',\n",
    "    marker = dict(colors = colors,line = dict(color = '#000000',width = 2))\n",
    ")\n",
    "fig.write_html('lead_results.html',auto_open=True)"
   ]
  },
  {
   "cell_type": "code",
   "execution_count": null,
   "metadata": {},
   "outputs": [],
   "source": []
  }
 ],
 "metadata": {
  "kernelspec": {
   "display_name": "may",
   "language": "python",
   "name": "python3"
  },
  "language_info": {
   "codemirror_mode": {
    "name": "ipython",
    "version": 3
   },
   "file_extension": ".py",
   "mimetype": "text/x-python",
   "name": "python",
   "nbconvert_exporter": "python",
   "pygments_lexer": "ipython3",
   "version": "3.12.2"
  }
 },
 "nbformat": 4,
 "nbformat_minor": 2
}
